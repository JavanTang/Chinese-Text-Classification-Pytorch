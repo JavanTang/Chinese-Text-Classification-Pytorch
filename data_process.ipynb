{
 "cells": [
  {
   "cell_type": "code",
   "execution_count": 2,
   "metadata": {},
   "outputs": [],
   "source": [
    "import pandas as pd"
   ]
  },
  {
   "cell_type": "code",
   "execution_count": 3,
   "metadata": {},
   "outputs": [
    {
     "output_type": "stream",
     "name": "stderr",
     "text": "/home/tangzhifeng/anaconda3/lib/python3.7/site-packages/IPython/core/interactiveshell.py:3063: DtypeWarning: Columns (2,9) have mixed types.Specify dtype option on import or set low_memory=False.\n  interactivity=interactivity, compiler=compiler, result=result)\n"
    }
   ],
   "source": [
    "data = pd.read_csv('ynyn/data/sys_video.csv')\n",
    "class_data = pd.read_csv('ynyn/data/class_panda.txt', sep='\\t')\n",
    "data = data['title']"
   ]
  },
  {
   "cell_type": "code",
   "execution_count": 4,
   "metadata": {},
   "outputs": [
    {
     "output_type": "stream",
     "name": "stdout",
     "text": "12\n"
    }
   ],
   "source": [
    "def search_label(x, class_data):\n",
    "    \"\"\"\n",
    "    搜索标签\n",
    "    \"\"\"\n",
    "    result = None\n",
    "    label_index = 0\n",
    "    for i in class_data:\n",
    "        if len(class_data[class_data[i]==x].index)>=1 or i == x:\n",
    "            result = label_index\n",
    "            break\n",
    "        label_index += 1\n",
    "    return result\n",
    "print(search_label('娱乐搞笑', class_data))\n",
    "    "
   ]
  },
  {
   "cell_type": "code",
   "execution_count": 48,
   "metadata": {},
   "outputs": [
    {
     "output_type": "stream",
     "name": "stdout",
     "text": "total: 3340\n"
    }
   ],
   "source": [
    "import re\n",
    "def extract(text):\n",
    "    \"\"\"\n",
    "    将text分为text和label\n",
    "    \"\"\"\n",
    "    try:\n",
    "        _ = re.split('#| ', text)\n",
    "    except Exception as e:\n",
    "        return None, None\n",
    "    _ = [i for i in _ if len(i)>0]\n",
    "    label_index = -1\n",
    "    label_name = None\n",
    "    for i in range(len(_)):\n",
    "        _lable = search_label(_[i], class_data)\n",
    "        if _lable != None:\n",
    "           label_index = i\n",
    "           label_name = _lable\n",
    "           break\n",
    "    content = ' '.join(_[:label_index])\n",
    "    label = label_name\n",
    "    return content, label\n",
    "\n",
    "total = 0\n",
    "data_set = []\n",
    "for i in data:\n",
    "    if not isinstance(i, str): continue\n",
    "    i = i.strip()\n",
    "    content, label = extract(i)\n",
    "    if label != None and len(content) > 0:\n",
    "        total += 1\n",
    "        content = content.replace('\\t', ' ')\n",
    "        _ = content+'\\t'+str(label)\n",
    "        data_set.append(_)\n",
    "print('total: {}'.format(total))"
   ]
  },
  {
   "cell_type": "code",
   "execution_count": 49,
   "metadata": {},
   "outputs": [
    {
     "output_type": "stream",
     "name": "stdout",
     "text": "2732\n"
    }
   ],
   "source": [
    "# 增加风景标签数据\n",
    "label_key = ['风景','美景','河山','旅游','山','水']\n",
    "result_4 = []\n",
    "_lable = 4\n",
    "for i in data:\n",
    "    if not isinstance(i, str) or '#' in i: continue\n",
    "    for _ in label_key:\n",
    "        if _ in i:\n",
    "            result_4.append(i+'\\t'+str(_lable))\n",
    "print(len(result_4))\n",
    "data_set += result_4\n"
   ]
  },
  {
   "cell_type": "code",
   "execution_count": 50,
   "metadata": {},
   "outputs": [
    {
     "output_type": "stream",
     "name": "stdout",
     "text": "3317\n"
    }
   ],
   "source": [
    "# 增加励志标签数据\n",
    "label_key = ['梦想','努力','感悟','正能量','加油','励志','优秀']\n",
    "_lable = 8\n",
    "result_8 = []\n",
    "for i in data:\n",
    "    if not isinstance(i, str) or '#' in i: continue\n",
    "    for _ in label_key:\n",
    "        if _ in i:\n",
    "            result_8.append(i+'\\t'+str(_lable))\n",
    "print(len(result_8))\n",
    "data_set += result_8\n"
   ]
  },
  {
   "cell_type": "code",
   "execution_count": 51,
   "metadata": {},
   "outputs": [
    {
     "output_type": "stream",
     "name": "stdout",
     "text": "4730\n"
    }
   ],
   "source": [
    "# 增加情感标签数据\n",
    "label_key = ['喜欢','男人','女人','恋爱','幸福','爱','他','她']\n",
    "_lable = 17\n",
    "result_17 = []\n",
    "for i in data:\n",
    "    if not isinstance(i, str) or '#' in i: continue\n",
    "    for _ in label_key:\n",
    "        if _ in i:\n",
    "            result_17.append(i+'\\t'+str(_lable))\n",
    "print(len(result_17))\n",
    "data_set += result_17\n"
   ]
  },
  {
   "cell_type": "code",
   "execution_count": 52,
   "metadata": {},
   "outputs": [
    {
     "output_type": "stream",
     "name": "stdout",
     "text": "282\n"
    }
   ],
   "source": [
    "# 增加歌曲标签数据\n",
    "label_key = ['电影','发哥','曲','dj']\n",
    "_lable = 10\n",
    "result_10 = []\n",
    "for i in data:\n",
    "    if not isinstance(i, str) or '#' in i: continue\n",
    "    for _ in label_key:\n",
    "        if _ in i:\n",
    "            result_10.append(i+'\\t'+str(_lable))\n",
    "print(len(result_10))\n",
    "data_set += result_10\n"
   ]
  },
  {
   "cell_type": "code",
   "execution_count": 53,
   "metadata": {},
   "outputs": [
    {
     "output_type": "stream",
     "name": "stdout",
     "text": "3\n"
    }
   ],
   "source": [
    "# 增加妈妈标签数据\n",
    "label_key = ['准妈妈','婴儿']\n",
    "_lable = 16\n",
    "result_16 = []\n",
    "for i in data:\n",
    "    if not isinstance(i, str) or '#' in i: continue\n",
    "    for _ in label_key:\n",
    "        if _ in i:\n",
    "            result_16.append(i+'\\t'+str(_lable))\n",
    "print(len(result_16))\n",
    "data_set += result_16\n"
   ]
  },
  {
   "cell_type": "code",
   "execution_count": 54,
   "metadata": {},
   "outputs": [
    {
     "output_type": "stream",
     "name": "stdout",
     "text": "124\n"
    }
   ],
   "source": [
    "# 增加养生标签数据\n",
    "label_key = ['养生','健康','锻炼','饮食']\n",
    "_lable = 7\n",
    "result_7 = []\n",
    "for i in data:\n",
    "    if not isinstance(i, str) or '#' in i: continue\n",
    "    for _ in label_key:\n",
    "        if _ in i:\n",
    "            result_7.append(i+'\\t'+str(_lable))\n",
    "print(len(result_7))\n",
    "data_set += result_7\n"
   ]
  },
  {
   "cell_type": "code",
   "execution_count": 55,
   "metadata": {},
   "outputs": [
    {
     "output_type": "stream",
     "name": "stdout",
     "text": "12 : 2543\n8 : 3395\n10 : 339\n13 : 32\n2 : 102\n11 : 108\n5 : 75\n3 : 202\n9 : 20\n1 : 18\n4 : 2785\n6 : 12\n0 : 21\n15 : 1\n14 : 9\n17 : 4739\n16 : 3\n7 : 124\n"
    }
   ],
   "source": [
    "# 统计种类\n",
    "\n",
    "lable_dict = {}\n",
    "_data_set = [i.split('\\t') for i in data_set]\n",
    "for i in _data_set:\n",
    "\n",
    "    if i[1] in lable_dict:\n",
    "        lable_dict[i[1]].append(i[0])\n",
    "    else:\n",
    "        lable_dict[i[1]] = []\n",
    "        lable_dict[i[1]].append(i[0])\n",
    "\n",
    "train_set = []\n",
    "test_set = []\n",
    "dev_set = []\n",
    "max_size = 2500\n",
    "for k, v in lable_dict.items():\n",
    "    _size = 0.95\n",
    "    number = int(len(v) * _size)\n",
    "    number = number if number < max_size else max_size\n",
    "    print(k,':',len(v))\n",
    "    train_set += [i+'\\t'+k for i in v[:number]]\n",
    "    test_set += [i+'\\t'+k for i in v[number:]]\n",
    "    dev_set += [i+'\\t'+k for i in v[number:]]\n"
   ]
  },
  {
   "cell_type": "code",
   "execution_count": 56,
   "metadata": {},
   "outputs": [],
   "source": [
    "dir_path = 'ynyn/data/'\n",
    "train_path = dir_path + 'train.txt'\n",
    "test_path = dir_path + 'test.txt'\n",
    "dev_path = dir_path + 'dev.txt'\n",
    "\n",
    "\n",
    "# import random\n",
    "# data_set = random.shuffle(data_set)\n",
    "# test_size = 0.2\n",
    "# train_set = data_set[:len(data_set)*(1-test_size)]\n",
    "# test_set = data_set[len(data_set)*(1-test_size):]\n",
    "\n",
    "import os\n",
    "with open(train_path, 'w+') as f:\n",
    "    f.write('\\n'.join(train_set))\n",
    "with open(test_path, 'w+') as f:\n",
    "    f.write('\\n'.join(test_set))\n",
    "with open(dev_path, 'w+') as f:\n",
    "    f.write('\\n'.join(test_set))\n"
   ]
  },
  {
   "cell_type": "code",
   "execution_count": 41,
   "metadata": {},
   "outputs": [],
   "source": []
  },
  {
   "cell_type": "code",
   "execution_count": 5,
   "metadata": {},
   "outputs": [],
   "source": [
    "data_set = [i.split('\\t')for i in data_set.split('\\n')]"
   ]
  },
  {
   "cell_type": "code",
   "execution_count": 6,
   "metadata": {},
   "outputs": [],
   "source": [
    "lable_dict = {}\n",
    "for i in data_set:\n",
    "    if i[1] in lable_dict:\n",
    "        lable_dict[i[1]].append(i[0])\n",
    "    else:\n",
    "        lable_dict[i[1]] = []\n",
    "        lable_dict[i[1]].append(i[0])"
   ]
  },
  {
   "cell_type": "code",
   "execution_count": 26,
   "metadata": {},
   "outputs": [
    {
     "output_type": "stream",
     "name": "stdout",
     "text": "12 : 120\n8 : 62\n10 : 45\n13 : 25\n2 : 81\n11 : 86\n5 : 60\n3 : 120\n9 : 16\n1 : 14\n4 : 42\n6 : 9\n0 : 16\n15 : 0\n14 : 7\n17 : 7\n"
    }
   ],
   "source": [
    "train_set = []\n",
    "test_set = []\n",
    "dev_set = []\n",
    "max_size = 120\n",
    "for k, v in lable_dict.items():\n",
    "    _size = 0.8\n",
    "    number = int(len(v) * _size)\n",
    "    number = number if number < max_size else max_size\n",
    "    print(k,':',number)\n",
    "    train_set += [i+'\\t'+k for i in v[:number]]\n",
    "    test_set += [i+'\\t'+k for i in v[number:]]\n",
    "    dev_set += [i+'\\t'+k for i in v[number:]]\n"
   ]
  },
  {
   "cell_type": "code",
   "execution_count": 27,
   "metadata": {},
   "outputs": [],
   "source": [
    "import os\n",
    "with open(train_path, 'w+') as f:\n",
    "    f.write('\\n'.join(train_set))\n",
    "with open(test_path, 'w+') as f:\n",
    "    f.write('\\n'.join(test_set))\n",
    "with open(dev_path, 'w+') as f:\n",
    "    f.write('\\n'.join(test_set))"
   ]
  },
  {
   "cell_type": "code",
   "execution_count": null,
   "metadata": {},
   "outputs": [],
   "source": []
  }
 ],
 "metadata": {
  "language_info": {
   "codemirror_mode": {
    "name": "ipython",
    "version": 3
   },
   "file_extension": ".py",
   "mimetype": "text/x-python",
   "name": "python",
   "nbconvert_exporter": "python",
   "pygments_lexer": "ipython3",
   "version": "3.7.6-final"
  },
  "orig_nbformat": 2,
  "kernelspec": {
   "name": "python3",
   "display_name": "Python 3"
  }
 },
 "nbformat": 4,
 "nbformat_minor": 2
}